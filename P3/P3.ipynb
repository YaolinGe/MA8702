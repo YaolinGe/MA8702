{
 "cells": [
  {
   "cell_type": "markdown",
   "id": "trying-candidate",
   "metadata": {
    "pycharm": {
     "name": "#%% md\n"
    }
   },
   "source": [
    "# Particle filter implementation on ship tracking"
   ]
  },
  {
   "cell_type": "code",
   "execution_count": 93,
   "outputs": [],
   "source": [
    "import numpy as np\n",
    "import matplotlib.pyplot as plt\n",
    "import math"
   ],
   "metadata": {
    "collapsed": false,
    "pycharm": {
     "name": "#%%\n"
    }
   }
  },
  {
   "cell_type": "code",
   "execution_count": 94,
   "outputs": [
    {
     "data": {
      "text/plain": "Text(0.5, 0, 'Time')"
     },
     "execution_count": 94,
     "metadata": {},
     "output_type": "execute_result"
    },
    {
     "data": {
      "text/plain": "<Figure size 432x288 with 2 Axes>",
      "image/png": "[encoded data removed]"
     },
     "metadata": {
      "needs_background": "light"
     },
     "output_type": "display_data"
    }
   ],
   "source": [
    "N = 50 # number of time points\n",
    "\n",
    "yA = np.loadtxt('sensorA.txt')\n",
    "yB = np.loadtxt('sensorB.txt')\n",
    "y = np.vstack((yA, yB))\n",
    "\n",
    "plt.figure()\n",
    "plt.subplot(121)\n",
    "plt.plot(yA, 'ko')\n",
    "plt.title(\"Sensor A angle\")\n",
    "plt.xlabel(\"Time\")\n",
    "plt.subplot(122)\n",
    "plt.plot(yB, 'ko')\n",
    "plt.title(\"Sensor B angle\")\n",
    "plt.xlabel(\"Time\")"
   ],
   "metadata": {
    "collapsed": false,
    "pycharm": {
     "name": "#%%\n"
    }
   }
  },
  {
   "cell_type": "code",
   "execution_count": 95,
   "outputs": [],
   "source": [
    "A = np.eye(4)\n",
    "delta = 1 / 60\n",
    "A[0, 2] = delta\n",
    "A[1, 3] = delta\n",
    "\n",
    "\n",
    "\n",
    "\n",
    "\n"
   ],
   "metadata": {
    "collapsed": false,
    "pycharm": {
     "name": "#%%\n"
    }
   }
  },
  {
   "cell_type": "code",
   "execution_count": 96,
   "outputs": [],
   "source": [
    "mu_prior = np.vstack((10, 30, 10, -10))\n",
    "Sigma_prior = np.diagflat(np.vstack((10**2, 10**2, 5**2, 5**2)))\n",
    "Sigma_update = np.diagflat(np.vstack((.1**2, .1**2, .5**2, .5**2)))\n",
    "Sigma_noise = np.diagflat(np.vstack((.1**2, .1**2)))\n",
    "\n"
   ],
   "metadata": {
    "collapsed": false,
    "pycharm": {
     "name": "#%%\n"
    }
   }
  },
  {
   "cell_type": "code",
   "execution_count": 97,
   "outputs": [],
   "source": [
    "mu_prop = np.zeros([4, N])\n",
    "mu_prop[:, 0] = mu_prior.squeeze()\n",
    "mu_update = np.zeros([4, N])\n",
    "Sigma_pred = np.zeros([4, 4, N])\n",
    "Sigma_pred[:, :, 0] = Sigma_prior\n",
    "Sigma_upd = np.zeros([4, 4, N])\n",
    "Pred_err = np.zeros([2, N])\n"
   ],
   "metadata": {
    "collapsed": false,
    "pycharm": {
     "name": "#%%\n"
    }
   }
  },
  {
   "cell_type": "code",
   "execution_count": 98,
   "outputs": [],
   "source": [
    "B = 10000\n",
    "L = np.linalg.cholesky(Sigma_prior)\n",
    "xB = np.zeros([4, B])\n",
    "xB = mu_prior * np.ones([1, B]) + np.dot(L, np.random.randn(4 * B).reshape(4, B))\n",
    "xB_update = np.zeros([4, B])\n",
    "mm = np.zeros([4, N])\n",
    "mlow = np.zeros([4, N])\n",
    "mhigh = np.zeros([4, N])\n",
    "\n",
    "\n"
   ],
   "metadata": {
    "collapsed": false,
    "pycharm": {
     "name": "#%%\n"
    }
   }
  },
  {
   "cell_type": "code",
   "execution_count": 106,
   "outputs": [],
   "source": [
    "for i in range(N):\n",
    "    yPB = np.vstack((np.divide(np.arctan(xB[0, :]), np.arctan(xB[1, :])),\n",
    "                     np.divide(np.arctan(40 - xB[1, :]), np.arctan(40 - xB[0, :]))))\n",
    "    # print(np.linalg.inv(Sigma_noise[0, 0].reshape(-1, 1)))\n",
    "    l = -.5 * np.linalg.inv(Sigma_noise[0, 0].reshape(-1, 1)) * np.multiply((\n",
    "            np.dot(y[:, i].reshape(-1, 1), np.ones([1, B])) - yPB),\n",
    "            (np.dot(y[:, i].reshape(-1, 1), np.ones([1, B])) - yPB))\n",
    "    w = l[0, :] + l[1, :]\n",
    "    ew = np.exp(w)\n",
    "    nw = ew / np.sum(ew)\n",
    "    Fw = np.cumsum(nw)\n",
    "    xBupd = np.zeros([4, B])\n",
    "    for kk in range(B):\n",
    "        Ur = np.random.rand()\n",
    "        ind = np.argmin(np.abs(Fw - Ur))\n",
    "        xBupd[:, kk] = xB[:, ind]\n",
    "    mm[:, i] = np.mean(xBupd, axis = 1)\n",
    "    for ik in range(4):\n",
    "        ms = np.sort(xBupd[ik, :])\n",
    "        mlow[ik, i] = ms[int(np.ceil(.05 * B))]\n",
    "        mhigh[ik, i] = ms[int(np.floor(.95 * B))]\n",
    "    if i < N:\n",
    "        xB = np.dot(A, xBupd) + np.dot(np.linalg.cholesky(Sigma_update), np.random.randn(4 * B).reshape(4, B))\n",
    "\n",
    "\n",
    "\n"
   ],
   "metadata": {
    "collapsed": false,
    "pycharm": {
     "name": "#%%\n"
    }
   }
  },
  {
   "cell_type": "code",
   "execution_count": 107,
   "outputs": [
    {
     "data": {
      "text/plain": "<Figure size 432x288 with 1 Axes>",
      "image/png": "[encoded data removed]"
     },
     "metadata": {
      "needs_background": "light"
     },
     "output_type": "display_data"
    }
   ],
   "source": [
    "plt.figure()\n",
    "plt.plot(mm[0,0], mm[1, 0], 'ko', 'linewidth', 2)\n",
    "plt.title(\"Particle filter\")\n",
    "plt.plot(mm[0, :], mm[1, :], 'r')\n",
    "plt.plot(mlow[0, :], mlow[1, :], 'b-.')\n",
    "plt.plot(mhigh[0, :], mhigh[1, :], 'b-.')\n",
    "plt.show()"
   ],
   "metadata": {
    "collapsed": false,
    "pycharm": {
     "name": "#%%\n"
    }
   }
  },
  {
   "cell_type": "code",
   "execution_count": null,
   "outputs": [],
   "source": [],
   "metadata": {
    "collapsed": false,
    "pycharm": {
     "name": "#%%\n"
    }
   }
  }
 ],
 "metadata": {
  "kernelspec": {
   "display_name": "Python 3",
   "language": "python",
   "name": "python3"
  },
  "language_info": {
   "codemirror_mode": {
    "name": "ipython",
    "version": 3
   },
   "file_extension": ".py",
   "mimetype": "text/x-python",
   "name": "python",
   "nbconvert_exporter": "python",
   "pygments_lexer": "ipython3",
   "version": "3.9.4"
  }
 },
 "nbformat": 4,
 "nbformat_minor": 5
}
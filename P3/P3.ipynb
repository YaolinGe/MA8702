{
 "cells": [
  {
   "cell_type": "markdown",
   "id": "trying-candidate",
   "metadata": {
    "pycharm": {
     "name": "#%% md\n"
    }
   },
   "source": [
    "# Particle filter implementation on ship tracking\n",
    "### In this project, the particle filter estimation on the ship's locations in a 2D-domain is implemented, where 10000 particles and 100 paritcles are studied to compare the performance over the size of the particle filter\n"
   ]
  },
  {
   "cell_type": "code",
   "execution_count": 218,
   "id": "placed-musician",
   "metadata": {
    "pycharm": {
     "name": "#%% Import data\n"
    }
   },
   "outputs": [
    {
     "data": {
      "text/plain": "<Figure size 432x288 with 2 Axes>",
      "image/png": "[encoded data removed]"
     },
     "metadata": {
      "needs_background": "light"
     },
     "output_type": "display_data"
    }
   ],
   "source": [
    "import numpy as np\n",
    "import matplotlib.pyplot as plt\n",
    "N = 50 # number of time points\n",
    "yA = np.loadtxt('sensorA.txt')\n",
    "yB = np.loadtxt('sensorB.txt')\n",
    "y = np.vstack((yA, yB))\n",
    "plt.figure()\n",
    "plt.subplot(121)\n",
    "plt.plot(yA, 'ko')\n",
    "plt.title(\"Sensor A angle\")\n",
    "plt.xlabel(\"Time\")\n",
    "plt.subplot(122)\n",
    "plt.plot(yB, 'ko')\n",
    "plt.title(\"Sensor B angle\")\n",
    "plt.xlabel(\"Time\")\n",
    "plt.show()"
   ]
  },
  {
   "cell_type": "markdown",
   "id": "dental-audience",
   "metadata": {
    "pycharm": {
     "name": "#%% md\n"
    }
   },
   "source": [
    "## Set up the model\n",
    "\n",
    "A surface vessel has state $\\boldsymbol{x}_t = (\\mathcal{E}_t, \\mathcal{N}_t, \\mathcal{v}_t, \\mathcal{u}_t)$, which represents the\n",
    "position along north and east, and the velocity along north and east respectively.\n",
    "\n",
    "The initial state is $\\boldsymbol{x}_t \\sim \\mathcal{N}_4(\\boldsymbol{\\mu}_1, \\boldsymbol{\\Sigma}_1)$, where\n",
    "\n",
    "$\\boldsymbol{\\mu}_1 = \\begin{bmatrix} 10 \\\\ 30 \\\\  10 \\\\  -10 \\end{bmatrix}$\n",
    "\n",
    "$\\boldsymbol{\\Sigma}_1 = \\begin{bmatrix}10^2 & 0 & 0 & 0 \\\\ 0 & 10^2 & 0 & 0 \\\\ 0 & 0 & 5^2 & 0 \\\\ 0 & 0 & 0 & 5^2\\end{bmatrix}$\n",
    "\n",
    "The evolution model can be expressed as\n",
    "\n",
    "$\\boldsymbol{x}_{t + 1} = \\boldsymbol{A}\\boldsymbol{x}_t + \\boldsymbol{\\epsilon}_{t + 1}$, where\n",
    "$\\boldsymbol{A} = \\begin{bmatrix}1 & 0 & \\delta & 0 \\\\ 0 & 1 & 0 & \\delta \\\\ 0 & 0 & 1 & 0 \\\\ 0 & 0 & 0 & 1\\end{bmatrix}$, and $\\delta = \\frac{1}{60}$\n",
    "\n",
    "$\\boldsymbol{\\epsilon}_{t + 1} \\sim \\mathcal{N}(\\boldsymbol{0}, \\begin{bmatrix}0.1^2 & 0 & 0 & 0 \\\\ 0 & 0.1^2 & 0 & 0 \\\\ 0 & 0 & 0.5^2 & 0 \\\\ 0 & 0 & 0 & 0.5^2\\end{bmatrix})$\n",
    "\n",
    "While the observation model can be formulated as\n",
    "\n",
    "$\\boldsymbol{y}_t = \\begin{bmatrix}\\arctan(E_t/N_t) \\\\ \\arctan[(40 - N_t)/(40 - E_t)]\\end{bmatrix} + \\boldsymbol{\\epsilon}_t$, where\n",
    "\n",
    "$\\boldsymbol{\\epsilon}_t \\sim \\mathcal{N}_2(\\boldsymbol{0}, \\begin{bmatrix} 0.1^2 & 0 \\\\ 0 & 0.1^2\\end{bmatrix})$"
   ]
  },
  {
   "cell_type": "code",
   "execution_count": 219,
   "id": "unavailable-reader",
   "metadata": {
    "pycharm": {
     "name": "#%% Construct the A matrix\n"
    }
   },
   "outputs": [],
   "source": [
    "A = np.eye(4)\n",
    "delta = 1 / 60\n",
    "A[0, 2] = delta\n",
    "A[1, 3] = delta"
   ]
  },
  {
   "cell_type": "code",
   "execution_count": 220,
   "id": "latest-louis",
   "metadata": {
    "pycharm": {
     "name": "#%% Initial pdfs and set up the particle filter\n"
    }
   },
   "outputs": [],
   "source": [
    "mu_prior = np.vstack((10, 30, 10, -10))\n",
    "Sigma_prior = np.diagflat(np.vstack((10**2, 10**2, 5**2, 5**2)))\n",
    "Sigma_PP = np.diagflat(np.vstack((.1**2, .1**2, .5**2, .5**2)))\n",
    "Sigma_noise = np.diagflat(np.vstack((.1**2, .1**2)))\n",
    "B = 10000\n",
    "L = np.linalg.cholesky(Sigma_prior)\n",
    "xB = np.zeros([4, B])\n",
    "xB = mu_prior * np.ones([1, B]) + np.dot(L, np.random.randn(4 * B).reshape(4, B))\n",
    "mm = np.zeros([4, N])\n",
    "mvar = np.zeros([4, N])\n",
    "mlow = np.zeros([4, N])\n",
    "mhigh = np.zeros([4, N])"
   ]
  },
  {
   "cell_type": "code",
   "execution_count": null,
   "outputs": [],
   "source": [
    "for i in range(N):\n",
    "    ya = np.arctan(np.divide(xB[0, :], xB[1, :]))\n",
    "    yb = np.arctan(np.divide((40 - xB[1, :]), (40 - xB[0, :])))\n",
    "    l = np.zeros([B, 1])\n",
    "    for ii in range(B):\n",
    "        y_est = np.vstack((ya[ii], yb[ii]))\n",
    "        ydiff = y[:, i].reshape(-1, 1) - y_est\n",
    "        l[ii] = np.exp(-(np.linalg.solve(Sigma_noise, ydiff).T.dot(ydiff)) / 2)\n",
    "\n",
    "    # reweighting\n",
    "    nw = l / np.sum(l) # updated weights pdf\n",
    "    Fw = np.cumsum(nw) # cdf to be used for resampling\n",
    "\n",
    "    # resampling using the weights\n",
    "    xBupd = np.zeros([4, B])\n",
    "    for kk in range(B):\n",
    "        Ur = np.random.rand()\n",
    "        ind = np.argwhere(Fw > Ur)[:, 0][0]\n",
    "        xBupd[:, kk] = xB[:, ind]\n",
    "\n",
    "    mm[:, i] = np.mean(xBupd, axis = 1)\n",
    "    mvar[:, i] = np.var(xBupd, axis = 1)\n",
    "    for ik in range(4):\n",
    "        ms = np.sort(xBupd[ik, :])\n",
    "        mlow[ik, i] = ms[int(np.ceil(.025 * B))]\n",
    "        mhigh[ik, i] = ms[int(np.floor(.975 * B))]\n",
    "    if i < N:\n",
    "        xB = np.dot(A, xBupd) + np.dot(np.linalg.cholesky(Sigma_PP), np.random.randn(4 * B).reshape(4, B))"
   ],
   "metadata": {
    "collapsed": false,
    "pycharm": {
     "name": "#%%\n",
     "is_executing": true
    }
   }
  },
  {
   "cell_type": "code",
   "execution_count": null,
   "id": "fancy-sweet",
   "metadata": {
    "pycharm": {
     "name": "#%% plot the locational estimation over time and plot the variances for estimations over time\n",
     "is_executing": true
    }
   },
   "outputs": [],
   "source": [
    "plt.figure(figsize = (5, 5))\n",
    "plt.plot(mm[0,0], mm[1, 0], 'ko')\n",
    "plt.title(\"Particle filter estimation using B={:d} particles\".format(B))\n",
    "plt.plot(mm[0, :], mm[1, :], 'r')\n",
    "plt.plot(mlow[0, :], mlow[1, :], 'b-.')\n",
    "plt.plot(mhigh[0, :], mhigh[1, :], 'b-.')\n",
    "plt.show()\n",
    "\n",
    "plt.figure(figsize = (5, 5))\n",
    "plt.subplot(221)\n",
    "plt.plot(mvar[0, :], '-.')\n",
    "plt.title(\"East location variance\")\n",
    "plt.subplot(222)\n",
    "plt.plot(mvar[1, :], '-.')\n",
    "plt.title(\"North location variance\")\n",
    "plt.subplot(223)\n",
    "plt.plot(mvar[2, :], '-.')\n",
    "plt.title(\"East velocity variance\")\n",
    "plt.subplot(224)\n",
    "plt.plot(mvar[3, :], '-.')\n",
    "plt.title(\"North velocity variance\")\n",
    "plt.show()"
   ]
  },
  {
   "cell_type": "markdown",
   "id": "pressed-jefferson",
   "metadata": {
    "pycharm": {
     "name": "#%% md\n"
    }
   },
   "source": [
    "One can tell that the variance increases when it encounters the singularity point where it does not know where the ship is by only using angle estimation.\n",
    "The variances thus first drops at the starting point for the location estimation, and then increases and drops again.\n"
   ]
  },
  {
   "cell_type": "code",
   "execution_count": null,
   "id": "awful-aurora",
   "metadata": {
    "pycharm": {
     "name": "#%%\n",
     "is_executing": true
    }
   },
   "outputs": [],
   "source": [
    "B = 100\n",
    "L = np.linalg.cholesky(Sigma_prior)\n",
    "xB = np.zeros([4, B])\n",
    "xB = mu_prior * np.ones([1, B]) + np.dot(L, np.random.randn(4 * B).reshape(4, B))\n",
    "mm = np.zeros([4, N])\n",
    "mvar = np.zeros([4, N])\n",
    "mlow = np.zeros([4, N])\n",
    "mhigh = np.zeros([4, N])\n",
    "for i in range(N):\n",
    "    ya = np.arctan(np.divide(xB[0, :], xB[1, :]))\n",
    "    yb = np.arctan(np.divide((40 - xB[1, :]), (40 - xB[0, :])))\n",
    "    l = np.zeros([B, 1])\n",
    "    for ii in range(B):\n",
    "        y_est = np.vstack((ya[ii], yb[ii]))\n",
    "        ydiff = y[:, i].reshape(-1, 1) - y_est\n",
    "        l[ii] = np.exp(-(np.linalg.solve(Sigma_noise, ydiff).T.dot(ydiff)) / 2)\n",
    "\n",
    "    # reweighting\n",
    "    nw = l / np.sum(l) # updated weights pdf\n",
    "    Fw = np.cumsum(nw) # cdf to be used for resampling\n",
    "\n",
    "    # resampling using the weights\n",
    "    xBupd = np.zeros([4, B])\n",
    "    for kk in range(B):\n",
    "        Ur = np.random.rand()\n",
    "        ind = np.argwhere(Fw > Ur)[:, 0][0]\n",
    "        xBupd[:, kk] = xB[:, ind]\n",
    "\n",
    "    mm[:, i] = np.mean(xBupd, axis = 1)\n",
    "    mvar[:, i] = np.var(xBupd, axis = 1)\n",
    "    for ik in range(4):\n",
    "        ms = np.sort(xBupd[ik, :])\n",
    "        mlow[ik, i] = ms[int(np.ceil(.025 * B))]\n",
    "        mhigh[ik, i] = ms[int(np.floor(.975 * B))]\n",
    "    if i < N:\n",
    "        xB = np.dot(A, xBupd) + np.dot(np.linalg.cholesky(Sigma_PP), np.random.randn(4 * B).reshape(4, B))"
   ]
  },
  {
   "cell_type": "code",
   "execution_count": null,
   "id": "vietnamese-durham",
   "metadata": {
    "pycharm": {
     "name": "#%% plot the locational estimation over time and plot the variances for estimations over time\n",
     "is_executing": true
    }
   },
   "outputs": [],
   "source": [
    "plt.figure(figsize = (5, 5))\n",
    "plt.plot(mm[0,0], mm[1, 0], 'ko')\n",
    "plt.title(\"Particle filter estimation using B={:d} particles\".format(B))\n",
    "plt.plot(mm[0, :], mm[1, :], 'r')\n",
    "plt.plot(mlow[0, :], mlow[1, :], 'b-.')\n",
    "plt.plot(mhigh[0, :], mhigh[1, :], 'b-.')\n",
    "plt.show()\n",
    "\n",
    "plt.figure(figsize = (5, 5))\n",
    "plt.subplot(221)\n",
    "plt.plot(mvar[0, :], '-.')\n",
    "plt.title(\"East location variance\")\n",
    "plt.subplot(222)\n",
    "plt.plot(mvar[1, :], '-.')\n",
    "plt.title(\"North location variance\")\n",
    "plt.subplot(223)\n",
    "plt.plot(mvar[2, :], '-.')\n",
    "plt.title(\"East velocity variance\")\n",
    "plt.subplot(224)\n",
    "plt.plot(mvar[3, :], '-.')\n",
    "plt.title(\"North velocity variance\")\n",
    "plt.show()\n",
    "\n"
   ]
  },
  {
   "cell_type": "markdown",
   "id": "serial-enemy",
   "metadata": {
    "pycharm": {
     "name": "#%% md\n"
    }
   },
   "source": [
    "When only having 100 particles, the location estimation seems still valid, whereas the variance estimation might not capture the full variation over time.\n",
    "\n",
    "## To sum up, the particle filter provides an efficient way of estimating the location and velocities in this case, but it is important to choose the right size of the particles to both achieve the estimation accuracy and the computational efficency.\n",
    "\n"
   ]
  }
 ],
 "metadata": {
  "kernelspec": {
   "display_name": "Python 3",
   "language": "python",
   "name": "python3"
  },
  "language_info": {
   "codemirror_mode": {
    "name": "ipython",
    "version": 3
   },
   "file_extension": ".py",
   "mimetype": "text/x-python",
   "name": "python",
   "nbconvert_exporter": "python",
   "pygments_lexer": "ipython3",
   "version": "3.9.4"
  }
 },
 "nbformat": 4,
 "nbformat_minor": 5
}